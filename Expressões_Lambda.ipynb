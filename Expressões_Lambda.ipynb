{
  "cells": [
    {
      "cell_type": "markdown",
      "metadata": {
        "id": "view-in-github",
        "colab_type": "text"
      },
      "source": [
        "<a href=\"https://colab.research.google.com/github/M20170138952/Big-Data-e-Spark/blob/main/Express%C3%B5es_Lambda.ipynb\" target=\"_parent\"><img src=\"https://colab.research.google.com/assets/colab-badge.svg\" alt=\"Open In Colab\"/></a>"
      ]
    },
    {
      "cell_type": "markdown",
      "metadata": {
        "id": "xX4NhdJLLKQE"
      },
      "source": [
        "# Expressões Lambda\n",
        "\n",
        "Uma das ferramentas Pythons mais úteis (e para iniciantes, confusas) é a expressão lambda. As expressões lambda nos permitem criar funções \"anônimas\". Isso basicamente significa que podemos criar funções ad hoc sem necessidade de definir corretamente uma função usando def.\n",
        "\n",
        "Os objetos de função retornados executando expressões lambda funcionam exatamente como os criados e atribuídos por defs. Há diferença fundamental que torna a lambda útil em papéis especializados:\n",
        "\n",
        "** O corpo de lambda é uma expressão única, não um bloco de declarações. **\n",
        "\n",
        "* O corpo da lambda é semelhante ao que colocamos na declaração de retorno do corpo def. Simplesmente escrevemos o resultado como uma expressão em vez de devolvê-lo explicitamente. Como é limitado a uma expressão, um lambda é menos geral que uma def. Só podemos espremer o design para limitar o aninhamento do programa. O lambda foi projetado para codificar funções simples e def manipula as tarefas maiores.\n",
        "\n",
        "Vamos desmembrar lentamente uma expressão lambda, desconstruindo uma função:"
      ]
    },
    {
      "cell_type": "code",
      "execution_count": null,
      "metadata": {
        "collapsed": true,
        "id": "ipVkZtQyLKQK"
      },
      "outputs": [],
      "source": [
        "def square(num):\n",
        "    result = num**2\n",
        "    return result"
      ]
    },
    {
      "cell_type": "code",
      "execution_count": null,
      "metadata": {
        "id": "UWzYFiVILKQL",
        "outputId": "28dbc51d-6f34-490d-83b7-6f31167a3ca5"
      },
      "outputs": [
        {
          "data": {
            "text/plain": [
              "4"
            ]
          },
          "execution_count": 2,
          "metadata": {},
          "output_type": "execute_result"
        }
      ],
      "source": [
        "square(2)"
      ]
    },
    {
      "cell_type": "markdown",
      "metadata": {
        "id": "g3bTP-x8LKQN"
      },
      "source": [
        "Continuando a quebra:"
      ]
    },
    {
      "cell_type": "code",
      "execution_count": null,
      "metadata": {
        "collapsed": true,
        "id": "k54w3z6XLKQO"
      },
      "outputs": [],
      "source": [
        "def square(num):\n",
        "    return num**2"
      ]
    },
    {
      "cell_type": "code",
      "execution_count": null,
      "metadata": {
        "id": "sTWK2jr-LKQP",
        "outputId": "505d4b4c-1766-4e7f-ddc3-cc23313f23a9"
      },
      "outputs": [
        {
          "data": {
            "text/plain": [
              "4"
            ]
          },
          "execution_count": 4,
          "metadata": {},
          "output_type": "execute_result"
        }
      ],
      "source": [
        "square(2)"
      ]
    },
    {
      "cell_type": "markdown",
      "metadata": {
        "id": "5seVhHAvLKQQ"
      },
      "source": [
        "Nós podemos realmente escrever isso em uma linha (embora seja um estilo ruim para fazê-lo)"
      ]
    },
    {
      "cell_type": "code",
      "execution_count": null,
      "metadata": {
        "collapsed": true,
        "id": "XvLrMB48LKQQ"
      },
      "outputs": [],
      "source": [
        "def square(num): return num**2"
      ]
    },
    {
      "cell_type": "code",
      "execution_count": null,
      "metadata": {
        "id": "fwV3n81OLKQR",
        "outputId": "f7a64a0d-7c6b-4beb-da12-674e4fd36407"
      },
      "outputs": [
        {
          "data": {
            "text/plain": [
              "4"
            ]
          },
          "execution_count": 6,
          "metadata": {},
          "output_type": "execute_result"
        }
      ],
      "source": [
        "square(2)"
      ]
    },
    {
      "cell_type": "markdown",
      "metadata": {
        "id": "qt9UahhgLKQR"
      },
      "source": [
        "Essa é a forma de uma função que uma expressão lambda pretende replicar. Uma expressão lambda pode então ser escrita como:"
      ]
    },
    {
      "cell_type": "code",
      "execution_count": null,
      "metadata": {
        "id": "0NGvkrDzLKQS",
        "outputId": "64158cfe-b6c3-4337-fa85-1ea727831495"
      },
      "outputs": [
        {
          "data": {
            "text/plain": [
              "<function __main__.<lambda>>"
            ]
          },
          "execution_count": 7,
          "metadata": {},
          "output_type": "execute_result"
        }
      ],
      "source": [
        "lambda num: num**2"
      ]
    },
    {
      "cell_type": "markdown",
      "metadata": {
        "id": "bZpwkuePLKQT"
      },
      "source": [
        "Observe como recuperamos uma função. Podemos atribuir essa função a um rótulo:"
      ]
    },
    {
      "cell_type": "code",
      "execution_count": null,
      "metadata": {
        "collapsed": true,
        "id": "GQwiRFaYLKQT"
      },
      "outputs": [],
      "source": [
        "square = lambda num: num**2"
      ]
    },
    {
      "cell_type": "code",
      "execution_count": null,
      "metadata": {
        "id": "MZjgySlwLKQU",
        "outputId": "dda64bea-f307-4fd8-dc20-611af535c04e"
      },
      "outputs": [
        {
          "data": {
            "text/plain": [
              "4"
            ]
          },
          "execution_count": 9,
          "metadata": {},
          "output_type": "execute_result"
        }
      ],
      "source": [
        "square(2)"
      ]
    },
    {
      "cell_type": "markdown",
      "metadata": {
        "id": "VSjkW28ZLKQV"
      },
      "source": [
        "E aí está! A quebra de uma função em uma expressão lambda!\n",
        "Vamos ver mais alguns exemplos:\n",
        "\n",
        "##Exemplo 1\n",
        "Verifique se um número é par: "
      ]
    },
    {
      "cell_type": "code",
      "execution_count": null,
      "metadata": {
        "collapsed": true,
        "id": "10jmVxANLKQV"
      },
      "outputs": [],
      "source": [
        "even = lambda x: x%2==0"
      ]
    },
    {
      "cell_type": "code",
      "execution_count": null,
      "metadata": {
        "id": "_y_zuEYZLKQW",
        "outputId": "f3c4e4dc-1a1d-43bf-e2a9-393863bd7450"
      },
      "outputs": [
        {
          "data": {
            "text/plain": [
              "False"
            ]
          },
          "execution_count": 14,
          "metadata": {},
          "output_type": "execute_result"
        }
      ],
      "source": [
        "even(3)"
      ]
    },
    {
      "cell_type": "code",
      "execution_count": null,
      "metadata": {
        "id": "jBt-z1-ILKQW",
        "outputId": "9bc1dc21-f244-40a9-baa5-e678991e1730"
      },
      "outputs": [
        {
          "data": {
            "text/plain": [
              "True"
            ]
          },
          "execution_count": 15,
          "metadata": {},
          "output_type": "execute_result"
        }
      ],
      "source": [
        "even(4)"
      ]
    },
    {
      "cell_type": "markdown",
      "metadata": {
        "id": "Pdy38jhkLKQX"
      },
      "source": [
        "## Exemplo 2\n",
        "Pegue o primeiro caractere de uma string:"
      ]
    },
    {
      "cell_type": "code",
      "execution_count": null,
      "metadata": {
        "collapsed": true,
        "id": "gFnSqQh8LKQY"
      },
      "outputs": [],
      "source": [
        "first = lambda s: s[0]"
      ]
    },
    {
      "cell_type": "code",
      "execution_count": null,
      "metadata": {
        "id": "Z_0TvfQzLKQY",
        "outputId": "e6131d83-94d6-40c7-b7b3-8481ab38646e"
      },
      "outputs": [
        {
          "data": {
            "text/plain": [
              "'h'"
            ]
          },
          "execution_count": 23,
          "metadata": {},
          "output_type": "execute_result"
        }
      ],
      "source": [
        "first('hello')"
      ]
    },
    {
      "cell_type": "markdown",
      "metadata": {
        "id": "_BqucZhQLKQZ"
      },
      "source": [
        "## Exemplo 3\n",
        "Inverta uma string"
      ]
    },
    {
      "cell_type": "code",
      "execution_count": null,
      "metadata": {
        "collapsed": true,
        "id": "FvRU6-JRLKQa"
      },
      "outputs": [],
      "source": [
        "rev = lambda s: s[::-1]"
      ]
    },
    {
      "cell_type": "code",
      "execution_count": null,
      "metadata": {
        "id": "cRu7uq49LKQa",
        "outputId": "a6cadd29-9997-41e7-dcab-70fc2dd37d18"
      },
      "outputs": [
        {
          "data": {
            "text/plain": [
              "'olleh'"
            ]
          },
          "execution_count": 25,
          "metadata": {},
          "output_type": "execute_result"
        }
      ],
      "source": [
        "rev('hello')"
      ]
    },
    {
      "cell_type": "markdown",
      "metadata": {
        "id": "S9F-SRNULKQb"
      },
      "source": [
        "## Exemplo 4\n",
        "Assim como uma função normal, podemos aceitar mais de uma função em uma expressão lambda:"
      ]
    },
    {
      "cell_type": "code",
      "execution_count": null,
      "metadata": {
        "collapsed": true,
        "id": "pB_Xzo3ULKQb"
      },
      "outputs": [],
      "source": [
        "adder = lambda x,y : x+y"
      ]
    },
    {
      "cell_type": "code",
      "execution_count": null,
      "metadata": {
        "id": "8jggPzH2LKQc",
        "outputId": "493f9b9e-50c4-4da9-d111-6973660f21fa"
      },
      "outputs": [
        {
          "data": {
            "text/plain": [
              "5"
            ]
          },
          "execution_count": 19,
          "metadata": {},
          "output_type": "execute_result"
        }
      ],
      "source": [
        "adder(2,3)"
      ]
    },
    {
      "cell_type": "markdown",
      "metadata": {
        "id": "FXUEIXUALKQd"
      },
      "source": [
        "As expressões lambda realmente brilham quando usadas em conjunto com map(), filter() e reduce(). Cada uma dessas funções tem sua própria palestra, então fique à vontade para explorá-las se você se interessou por lambda."
      ]
    },
    {
      "cell_type": "markdown",
      "metadata": {
        "id": "2sSI6A8NLKQd"
      },
      "source": [
        "Eu recomendo ler esta postagem no blog em [Python Conquers the Universe](https://pythonconquerstheuniverse.wordpress.com/2011/08/29/lambda_tutorial/) para uma explicação maior em expressões lambda e alguns erros comuns!"
      ]
    },
    {
      "cell_type": "code",
      "execution_count": null,
      "metadata": {
        "collapsed": true,
        "id": "8jybM9HpLKQe"
      },
      "outputs": [],
      "source": [
        ""
      ]
    }
  ],
  "metadata": {
    "kernelspec": {
      "display_name": "Python 3",
      "language": "python",
      "name": "python3"
    },
    "language_info": {
      "codemirror_mode": {
        "name": "ipython",
        "version": 3
      },
      "file_extension": ".py",
      "mimetype": "text/x-python",
      "name": "python",
      "nbconvert_exporter": "python",
      "pygments_lexer": "ipython3",
      "version": "3.6.1"
    },
    "colab": {
      "name": "Expressões Lambda.ipynb",
      "provenance": [],
      "include_colab_link": true
    }
  },
  "nbformat": 4,
  "nbformat_minor": 0
}